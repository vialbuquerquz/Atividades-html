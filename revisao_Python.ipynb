{
  "nbformat": 4,
  "nbformat_minor": 0,
  "metadata": {
    "colab": {
      "provenance": [],
      "authorship_tag": "ABX9TyMNY6U2+1ISyOqJRcH3Gt11",
      "include_colab_link": true
    },
    "kernelspec": {
      "name": "python3",
      "display_name": "Python 3"
    },
    "language_info": {
      "name": "python"
    }
  },
  "cells": [
    {
      "cell_type": "markdown",
      "metadata": {
        "id": "view-in-github",
        "colab_type": "text"
      },
      "source": [
        "<a href=\"https://colab.research.google.com/github/vialbuquerquz/Atividades-html/blob/main/revisao_Python.ipynb\" target=\"_parent\"><img src=\"https://colab.research.google.com/assets/colab-badge.svg\" alt=\"Open In Colab\"/></a>"
      ]
    },
    {
      "cell_type": "markdown",
      "source": [
        "#Aula 1"
      ],
      "metadata": {
        "id": "EVNn6yS8Nk11"
      }
    },
    {
      "cell_type": "code",
      "source": [
        "print(\"Olá mundo!\")"
      ],
      "metadata": {
        "colab": {
          "base_uri": "https://localhost:8080/"
        },
        "id": "4_ySdAYTNp5O",
        "outputId": "00d0d92b-1b72-4f43-959b-20b3d91c1995"
      },
      "execution_count": null,
      "outputs": [
        {
          "output_type": "stream",
          "name": "stdout",
          "text": [
            "Olá mundo!\n"
          ]
        }
      ]
    },
    {
      "cell_type": "markdown",
      "source": [
        "# Operações matemáticas\n"
      ],
      "metadata": {
        "id": "zhflGhO_OJVI"
      }
    },
    {
      "cell_type": "code",
      "source": [
        "# Soma\n",
        "10 + 5"
      ],
      "metadata": {
        "colab": {
          "base_uri": "https://localhost:8080/"
        },
        "id": "Jgpqwh2EOMx3",
        "outputId": "00c94479-1172-4921-b32f-fea69cb1c842"
      },
      "execution_count": null,
      "outputs": [
        {
          "output_type": "execute_result",
          "data": {
            "text/plain": [
              "15"
            ]
          },
          "metadata": {},
          "execution_count": 7
        }
      ]
    },
    {
      "cell_type": "code",
      "source": [
        "# Subtração\n",
        "10 - 5"
      ],
      "metadata": {
        "colab": {
          "base_uri": "https://localhost:8080/"
        },
        "id": "aQFpVeTCOZoY",
        "outputId": "1bcc1a4f-529e-41d4-8862-99858ad94229"
      },
      "execution_count": null,
      "outputs": [
        {
          "output_type": "execute_result",
          "data": {
            "text/plain": [
              "5"
            ]
          },
          "metadata": {},
          "execution_count": 9
        }
      ]
    },
    {
      "cell_type": "code",
      "source": [
        "# Multiplicação\n",
        "2 * 2"
      ],
      "metadata": {
        "colab": {
          "base_uri": "https://localhost:8080/"
        },
        "id": "7To5b2ZaOgf2",
        "outputId": "cc9176d2-9085-4e28-b20f-5a1da19e1830"
      },
      "execution_count": null,
      "outputs": [
        {
          "output_type": "execute_result",
          "data": {
            "text/plain": [
              "4"
            ]
          },
          "metadata": {},
          "execution_count": 11
        }
      ]
    },
    {
      "cell_type": "code",
      "source": [
        "# Exponenciação\n",
        "\n",
        "4 * 2"
      ],
      "metadata": {
        "colab": {
          "base_uri": "https://localhost:8080/"
        },
        "id": "5tIHHthGOmdS",
        "outputId": "04cc258c-9473-4332-f26d-fe7ae04058c0"
      },
      "execution_count": null,
      "outputs": [
        {
          "output_type": "execute_result",
          "data": {
            "text/plain": [
              "8"
            ]
          },
          "metadata": {},
          "execution_count": 14
        }
      ]
    },
    {
      "cell_type": "code",
      "source": [
        "# Divisão\n",
        "10 / 2"
      ],
      "metadata": {
        "colab": {
          "base_uri": "https://localhost:8080/"
        },
        "id": "6c1MvyaEOyDx",
        "outputId": "ae22df15-487b-47c3-b82c-21f617277108"
      },
      "execution_count": null,
      "outputs": [
        {
          "output_type": "execute_result",
          "data": {
            "text/plain": [
              "5.0"
            ]
          },
          "metadata": {},
          "execution_count": 16
        }
      ]
    },
    {
      "cell_type": "code",
      "source": [
        "# Divisão inteira\n",
        "10 // 3"
      ],
      "metadata": {
        "colab": {
          "base_uri": "https://localhost:8080/"
        },
        "id": "MbXMowi-O5aN",
        "outputId": "605900bc-749e-498b-8ccc-93174159758c"
      },
      "execution_count": null,
      "outputs": [
        {
          "output_type": "execute_result",
          "data": {
            "text/plain": [
              "3"
            ]
          },
          "metadata": {},
          "execution_count": 17
        }
      ]
    },
    {
      "cell_type": "code",
      "source": [
        "# Resto d divisão\n",
        "10 % 2"
      ],
      "metadata": {
        "colab": {
          "base_uri": "https://localhost:8080/"
        },
        "id": "j1Ena_ejO_3r",
        "outputId": "82c68e85-42a2-40aa-fa55-f25e50869260"
      },
      "execution_count": null,
      "outputs": [
        {
          "output_type": "execute_result",
          "data": {
            "text/plain": [
              "0"
            ]
          },
          "metadata": {},
          "execution_count": 19
        }
      ]
    },
    {
      "cell_type": "markdown",
      "source": [
        "#\n",
        "Variável\n"
      ],
      "metadata": {
        "id": "3b5X8M5qPMtq"
      }
    },
    {
      "cell_type": "code",
      "source": [
        " a = 4\n",
        " b = 6\n",
        " a + b"
      ],
      "metadata": {
        "colab": {
          "base_uri": "https://localhost:8080/"
        },
        "id": "W6oYwUQgPSwX",
        "outputId": "b2ac8c9d-163d-456e-9a10-b945e930e75d"
      },
      "execution_count": null,
      "outputs": [
        {
          "output_type": "execute_result",
          "data": {
            "text/plain": [
              "10"
            ]
          },
          "metadata": {},
          "execution_count": 21
        }
      ]
    },
    {
      "cell_type": "code",
      "source": [
        "idade = 20\n",
        "nome = \"Vitória\""
      ],
      "metadata": {
        "id": "JSwNOOKfP4wn"
      },
      "execution_count": null,
      "outputs": []
    },
    {
      "cell_type": "code",
      "source": [
        "print (\"A idade é\", idade)"
      ],
      "metadata": {
        "colab": {
          "base_uri": "https://localhost:8080/"
        },
        "id": "hIxZWPrFQDBC",
        "outputId": "a3080a70-569e-4f21-8eb0-e47349d6de74"
      },
      "execution_count": null,
      "outputs": [
        {
          "output_type": "stream",
          "name": "stdout",
          "text": [
            "A idade é 19\n"
          ]
        }
      ]
    },
    {
      "cell_type": "code",
      "source": [
        "print(f\"A idade de {nome} é {idade}\")"
      ],
      "metadata": {
        "colab": {
          "base_uri": "https://localhost:8080/"
        },
        "id": "chKgx3kAQUiu",
        "outputId": "9f9446d6-000a-49b7-9102-22d07677268f"
      },
      "execution_count": null,
      "outputs": [
        {
          "output_type": "stream",
          "name": "stdout",
          "text": [
            "A idade de Vitória é 20\n"
          ]
        }
      ]
    },
    {
      "cell_type": "code",
      "source": [
        "type(idade)"
      ],
      "metadata": {
        "colab": {
          "base_uri": "https://localhost:8080/"
        },
        "id": "39Rt9Bi-QdDG",
        "outputId": "07b912ca-14eb-45dd-cea2-d7d186bfdcf8"
      },
      "execution_count": null,
      "outputs": [
        {
          "output_type": "execute_result",
          "data": {
            "text/plain": [
              "int"
            ]
          },
          "metadata": {},
          "execution_count": 28
        }
      ]
    },
    {
      "cell_type": "code",
      "source": [
        "type(nome)"
      ],
      "metadata": {
        "colab": {
          "base_uri": "https://localhost:8080/"
        },
        "id": "IhVznMxeQ1P1",
        "outputId": "2521d995-5954-46b7-ee75-a9eb0858c292"
      },
      "execution_count": null,
      "outputs": [
        {
          "output_type": "execute_result",
          "data": {
            "text/plain": [
              "str"
            ]
          },
          "metadata": {},
          "execution_count": 30
        }
      ]
    },
    {
      "cell_type": "markdown",
      "source": [
        "# Trabalhando com strings"
      ],
      "metadata": {
        "id": "j73iZYcORqBq"
      }
    },
    {
      "cell_type": "code",
      "source": [
        "texto = \"Estou aprendendo python para análise de dados\"\n"
      ],
      "metadata": {
        "id": "g6M2EMTcRtlA"
      },
      "execution_count": null,
      "outputs": []
    },
    {
      "cell_type": "code",
      "source": [
        "# Fatiamento de string\n",
        "\n",
        "#Retornando a primeira letra\n",
        "texto[0]\n",
        "\n",
        "#Retornando parte do texto\n",
        "texto[0:23] # o segundo argumento é inclusivo a esquerda e exclusivo a direita\n"
      ],
      "metadata": {
        "colab": {
          "base_uri": "https://localhost:8080/",
          "height": 35
        },
        "id": "JozobPGbR2lf",
        "outputId": "d78ff615-9060-4163-ab1c-e54a59e25d62"
      },
      "execution_count": null,
      "outputs": [
        {
          "output_type": "execute_result",
          "data": {
            "text/plain": [
              "'Estou aprendendo python'"
            ],
            "application/vnd.google.colaboratory.intrinsic+json": {
              "type": "string"
            }
          },
          "metadata": {},
          "execution_count": 44
        }
      ]
    },
    {
      "cell_type": "code",
      "source": [
        "# Colocar texto em maiúsculo\n",
        "\n",
        "texto.upper()"
      ],
      "metadata": {
        "colab": {
          "base_uri": "https://localhost:8080/",
          "height": 35
        },
        "id": "yHQl9Y02U5XU",
        "outputId": "86c545a1-e6f1-4f7e-fb0a-e5dc3e86419b"
      },
      "execution_count": null,
      "outputs": [
        {
          "output_type": "execute_result",
          "data": {
            "text/plain": [
              "'ESTOU APRENDENDO PYTHON PARA ANÁLISE DE DADOS'"
            ],
            "application/vnd.google.colaboratory.intrinsic+json": {
              "type": "string"
            }
          },
          "metadata": {},
          "execution_count": 45
        }
      ]
    },
    {
      "cell_type": "code",
      "source": [
        "#Colocando texto em minúsculo\n",
        "texto.lower()"
      ],
      "metadata": {
        "colab": {
          "base_uri": "https://localhost:8080/",
          "height": 35
        },
        "id": "FwRRxDfcVAmG",
        "outputId": "81bfadde-345b-4f15-9d03-e5774be7dc16"
      },
      "execution_count": null,
      "outputs": [
        {
          "output_type": "execute_result",
          "data": {
            "text/plain": [
              "'estou aprendendo python para análise de dados'"
            ],
            "application/vnd.google.colaboratory.intrinsic+json": {
              "type": "string"
            }
          },
          "metadata": {},
          "execution_count": 46
        }
      ]
    },
    {
      "cell_type": "code",
      "source": [
        "#Colocando apenas primeira letra em maiúsculo\n",
        "texto.capitalize()"
      ],
      "metadata": {
        "colab": {
          "base_uri": "https://localhost:8080/",
          "height": 35
        },
        "id": "RGSKF7FCVrpV",
        "outputId": "7e9c9271-1fa0-404a-b210-615e29091073"
      },
      "execution_count": null,
      "outputs": [
        {
          "output_type": "execute_result",
          "data": {
            "text/plain": [
              "'Estou aprendendo python para análise de dados'"
            ],
            "application/vnd.google.colaboratory.intrinsic+json": {
              "type": "string"
            }
          },
          "metadata": {},
          "execution_count": 47
        }
      ]
    },
    {
      "cell_type": "code",
      "source": [
        "#Apenas as primeiras letras das palavras em maiúsculo\n",
        "texto.title()"
      ],
      "metadata": {
        "colab": {
          "base_uri": "https://localhost:8080/",
          "height": 35
        },
        "id": "Xere3z6eV1s2",
        "outputId": "a1fdb3da-73b6-4982-d695-eca62143850d"
      },
      "execution_count": null,
      "outputs": [
        {
          "output_type": "execute_result",
          "data": {
            "text/plain": [
              "'Estou Aprendendo Python Para Análise De Dados'"
            ],
            "application/vnd.google.colaboratory.intrinsic+json": {
              "type": "string"
            }
          },
          "metadata": {},
          "execution_count": 48
        }
      ]
    },
    {
      "cell_type": "code",
      "source": [
        "#Substituição de palavras dentro do texto\n",
        "frase = texto.replace(\"análise\", \"ciência\")"
      ],
      "metadata": {
        "id": "v2nVrJ-lWZdw"
      },
      "execution_count": null,
      "outputs": []
    },
    {
      "cell_type": "code",
      "source": [
        "print(frase)"
      ],
      "metadata": {
        "colab": {
          "base_uri": "https://localhost:8080/"
        },
        "id": "FkUFviFdWpJh",
        "outputId": "e66341b8-8919-40e5-8bd1-b42d54e24792"
      },
      "execution_count": null,
      "outputs": [
        {
          "output_type": "stream",
          "name": "stdout",
          "text": [
            "Estou aprendendo python para ciência de dados\n"
          ]
        }
      ]
    },
    {
      "cell_type": "code",
      "source": [
        "#Pesquisa por palavra específica em frase\n",
        "\n",
        "\"python\" in frase"
      ],
      "metadata": {
        "colab": {
          "base_uri": "https://localhost:8080/"
        },
        "id": "6TVGSSEKWsa0",
        "outputId": "b1d65fe9-1319-4ce1-dded-1f4017a1a0e3"
      },
      "execution_count": null,
      "outputs": [
        {
          "output_type": "execute_result",
          "data": {
            "text/plain": [
              "True"
            ]
          },
          "metadata": {},
          "execution_count": 52
        }
      ]
    },
    {
      "cell_type": "code",
      "source": [
        "#Pesquisa por quantas vezes uma palavra se repete\n",
        "\n",
        "frase.count(\"python\")"
      ],
      "metadata": {
        "colab": {
          "base_uri": "https://localhost:8080/"
        },
        "id": "vXEZcf-9XNG1",
        "outputId": "31708afb-caf0-4a77-cf99-cf1d19f7d917"
      },
      "execution_count": null,
      "outputs": [
        {
          "output_type": "execute_result",
          "data": {
            "text/plain": [
              "1"
            ]
          },
          "metadata": {},
          "execution_count": 54
        }
      ]
    },
    {
      "cell_type": "markdown",
      "source": [
        "#Estrutura de dados"
      ],
      "metadata": {
        "id": "UUh5-HJ3Xs5g"
      }
    },
    {
      "cell_type": "markdown",
      "source": [
        "## Listas\n"
      ],
      "metadata": {
        "id": "K3-Zdr1PXyuY"
      }
    },
    {
      "cell_type": "code",
      "source": [
        "#Sintaxe para criação de listas\n",
        "animais = [1,2,3]\n",
        "animais"
      ],
      "metadata": {
        "colab": {
          "base_uri": "https://localhost:8080/"
        },
        "id": "vXD8A7awX2NC",
        "outputId": "75d50a03-7a88-490f-afb9-e5f5b69012da"
      },
      "execution_count": null,
      "outputs": [
        {
          "output_type": "execute_result",
          "data": {
            "text/plain": [
              "[1, 2, 3]"
            ]
          },
          "metadata": {},
          "execution_count": 58
        }
      ]
    },
    {
      "cell_type": "code",
      "source": [
        "animais = [\"Gato\", \"Cachorro\", 1, 2, 3]\n",
        "print(animais)"
      ],
      "metadata": {
        "colab": {
          "base_uri": "https://localhost:8080/"
        },
        "id": "F5zijki1YAsP",
        "outputId": "493d3d41-f811-4263-97b1-5ee534fd211d"
      },
      "execution_count": null,
      "outputs": [
        {
          "output_type": "stream",
          "name": "stdout",
          "text": [
            "['Gato', 'Cachorro', 1, 2, 3]\n"
          ]
        }
      ]
    },
    {
      "cell_type": "code",
      "source": [
        "# Retornando o último elemento de uma lista\n",
        "animais[-1]"
      ],
      "metadata": {
        "colab": {
          "base_uri": "https://localhost:8080/"
        },
        "id": "sIMsV-9VZFMS",
        "outputId": "fd39db0a-eba0-47ed-f8f8-713cf71303b4"
      },
      "execution_count": null,
      "outputs": [
        {
          "output_type": "execute_result",
          "data": {
            "text/plain": [
              "3"
            ]
          },
          "metadata": {},
          "execution_count": 71
        }
      ]
    },
    {
      "cell_type": "code",
      "source": [
        "animais[0] = \"Papagaio\"\n",
        "animais"
      ],
      "metadata": {
        "colab": {
          "base_uri": "https://localhost:8080/"
        },
        "id": "POmr3ik5ZKQE",
        "outputId": "09f0b717-7ad4-4fb7-cb34-1e0878fba9ab"
      },
      "execution_count": null,
      "outputs": [
        {
          "output_type": "execute_result",
          "data": {
            "text/plain": [
              "['Papagaio', 'Cachorro', 1, 2, 3]"
            ]
          },
          "metadata": {},
          "execution_count": 72
        }
      ]
    },
    {
      "cell_type": "code",
      "source": [
        "#Removendo elementos de listas e tuplas\n",
        "animais.remove(\"Cachorro\") #o argumento é o próprio elemento"
      ],
      "metadata": {
        "id": "0ezdhy5vahwa"
      },
      "execution_count": null,
      "outputs": []
    },
    {
      "cell_type": "code",
      "source": [
        "animais"
      ],
      "metadata": {
        "colab": {
          "base_uri": "https://localhost:8080/"
        },
        "id": "kSEGB5i3aojl",
        "outputId": "c5020b64-7266-4d6c-f52a-11d02c34c831"
      },
      "execution_count": null,
      "outputs": [
        {
          "output_type": "execute_result",
          "data": {
            "text/plain": [
              "['Papagaio', 1, 2, 3]"
            ]
          },
          "metadata": {},
          "execution_count": 74
        }
      ]
    },
    {
      "cell_type": "code",
      "source": [
        "#Removendo pelo índice\n",
        "animais.pop(2)"
      ],
      "metadata": {
        "colab": {
          "base_uri": "https://localhost:8080/"
        },
        "id": "weOd0BFjapU0",
        "outputId": "2bca53b5-3c1d-4e9e-9d58-7d6c726dd59d"
      },
      "execution_count": null,
      "outputs": [
        {
          "output_type": "execute_result",
          "data": {
            "text/plain": [
              "2"
            ]
          },
          "metadata": {},
          "execution_count": 75
        }
      ]
    },
    {
      "cell_type": "code",
      "source": [
        "animais"
      ],
      "metadata": {
        "colab": {
          "base_uri": "https://localhost:8080/"
        },
        "id": "SWeqqkkEawTj",
        "outputId": "9f5852be-e214-406b-e79c-ad5d8808043d"
      },
      "execution_count": null,
      "outputs": [
        {
          "output_type": "execute_result",
          "data": {
            "text/plain": [
              "['Papagaio', 1, 3]"
            ]
          },
          "metadata": {},
          "execution_count": 76
        }
      ]
    },
    {
      "cell_type": "code",
      "source": [
        "# Consultando existência de elemento na lista\n",
        "\"Papagaio\" in animais"
      ],
      "metadata": {
        "colab": {
          "base_uri": "https://localhost:8080/"
        },
        "id": "YxMtYG_NayBg",
        "outputId": "89b0e803-d06b-4f42-fe30-5ec88dc51ecb"
      },
      "execution_count": null,
      "outputs": [
        {
          "output_type": "execute_result",
          "data": {
            "text/plain": [
              "True"
            ]
          },
          "metadata": {},
          "execution_count": 77
        }
      ]
    },
    {
      "cell_type": "code",
      "source": [
        "\"Cachorro\" in animais"
      ],
      "metadata": {
        "colab": {
          "base_uri": "https://localhost:8080/"
        },
        "id": "0ttU2okwbCHB",
        "outputId": "ee0cd8aa-4a21-41c0-9a12-d40e73b93a35"
      },
      "execution_count": null,
      "outputs": [
        {
          "output_type": "execute_result",
          "data": {
            "text/plain": [
              "False"
            ]
          },
          "metadata": {},
          "execution_count": 78
        }
      ]
    },
    {
      "cell_type": "code",
      "source": [
        "#Adicionando UM elemento na lista\n",
        "animais.append(\"Cachorro\")"
      ],
      "metadata": {
        "id": "u7p16diLbHNr"
      },
      "execution_count": null,
      "outputs": []
    },
    {
      "cell_type": "code",
      "source": [
        "animais"
      ],
      "metadata": {
        "colab": {
          "base_uri": "https://localhost:8080/"
        },
        "id": "KFhDD_NzbRz5",
        "outputId": "9c6a3009-879c-4680-e499-8a393ce3c8e7"
      },
      "execution_count": null,
      "outputs": [
        {
          "output_type": "execute_result",
          "data": {
            "text/plain": [
              "['Papagaio', 1, 3, 'Cachorro', 'Cachorro']"
            ]
          },
          "metadata": {},
          "execution_count": 81
        }
      ]
    },
    {
      "cell_type": "code",
      "source": [
        "animais.insert(1, \"Gato\")"
      ],
      "metadata": {
        "id": "351CYcmbbSyK"
      },
      "execution_count": null,
      "outputs": []
    },
    {
      "cell_type": "code",
      "source": [
        "animais"
      ],
      "metadata": {
        "colab": {
          "base_uri": "https://localhost:8080/"
        },
        "id": "asFaaj47bfG-",
        "outputId": "e97f743a-b3be-4d04-8998-70f4554789dc"
      },
      "execution_count": null,
      "outputs": [
        {
          "output_type": "execute_result",
          "data": {
            "text/plain": [
              "['Papagaio', 'Gato', 1, 3, 'Cachorro', 'Cachorro']"
            ]
          },
          "metadata": {},
          "execution_count": 83
        }
      ]
    },
    {
      "cell_type": "code",
      "source": [
        "# Adicionando mais de um elemento na lista, que só entra no final do array e deve ser informado como uma lista\n",
        "animais.extend([\"peixe\", \"cobra\"])\n"
      ],
      "metadata": {
        "id": "ZH_Wkw9ibf3g"
      },
      "execution_count": null,
      "outputs": []
    },
    {
      "cell_type": "code",
      "source": [
        "lista = [10, 5, 30, 500, 100]"
      ],
      "metadata": {
        "id": "qZEMl8LNb5jD"
      },
      "execution_count": null,
      "outputs": []
    },
    {
      "cell_type": "code",
      "source": [
        "#Ordenação de lista\n",
        "lista.sort()"
      ],
      "metadata": {
        "id": "l7LVRHhac3PJ"
      },
      "execution_count": null,
      "outputs": []
    },
    {
      "cell_type": "code",
      "source": [
        "lista"
      ],
      "metadata": {
        "colab": {
          "base_uri": "https://localhost:8080/"
        },
        "id": "RlZTEkDbdBa8",
        "outputId": "b29dcfbe-d524-4abc-be49-0e0989471b98"
      },
      "execution_count": null,
      "outputs": [
        {
          "output_type": "execute_result",
          "data": {
            "text/plain": [
              "[5, 10, 30, 100, 500]"
            ]
          },
          "metadata": {},
          "execution_count": 90
        }
      ]
    },
    {
      "cell_type": "code",
      "source": [
        "#Retornando o elemento máximo da lista\n",
        "max(lista)"
      ],
      "metadata": {
        "colab": {
          "base_uri": "https://localhost:8080/"
        },
        "id": "MBd5HTZRdCIg",
        "outputId": "6a504522-6f33-42da-bb13-8b059e2af283"
      },
      "execution_count": null,
      "outputs": [
        {
          "output_type": "execute_result",
          "data": {
            "text/plain": [
              "500"
            ]
          },
          "metadata": {},
          "execution_count": 91
        }
      ]
    },
    {
      "cell_type": "code",
      "source": [
        "#Retornando o valor mínimo da lista\n",
        "min(lista)"
      ],
      "metadata": {
        "colab": {
          "base_uri": "https://localhost:8080/"
        },
        "id": "DwFUY3zMdScf",
        "outputId": "d85f449d-ecf3-4008-a5fe-4f80a72d1700"
      },
      "execution_count": null,
      "outputs": [
        {
          "output_type": "execute_result",
          "data": {
            "text/plain": [
              "5"
            ]
          },
          "metadata": {},
          "execution_count": 93
        }
      ]
    },
    {
      "cell_type": "markdown",
      "source": [
        "#Lista aninhada(lista de listas)"
      ],
      "metadata": {
        "id": "IOpKQH-Xdf5L"
      }
    },
    {
      "cell_type": "code",
      "source": [
        "lista = [[\"Gato\", \"Cachorro\", \"Peixe\"],[\"Audi\", \"Ferrari\", \"Fusca\"],[1, 2, 3]]"
      ],
      "metadata": {
        "id": "R0MTZd5ldi-X"
      },
      "execution_count": null,
      "outputs": []
    },
    {
      "cell_type": "code",
      "source": [
        "#Retornando segundo valor[1] da primeira lista[0] através do índice\n",
        "lista[0][1]"
      ],
      "metadata": {
        "colab": {
          "base_uri": "https://localhost:8080/",
          "height": 35
        },
        "id": "wM5znuuSd3ms",
        "outputId": "ee0011a9-1fa9-4e7b-e0fc-e50a707b8bdb"
      },
      "execution_count": null,
      "outputs": [
        {
          "output_type": "execute_result",
          "data": {
            "text/plain": [
              "'Cachorro'"
            ],
            "application/vnd.google.colaboratory.intrinsic+json": {
              "type": "string"
            }
          },
          "metadata": {},
          "execution_count": 98
        }
      ]
    },
    {
      "cell_type": "code",
      "source": [
        "lista[1][2]"
      ],
      "metadata": {
        "colab": {
          "base_uri": "https://localhost:8080/",
          "height": 35
        },
        "id": "Q_vhSVpaeRUI",
        "outputId": "3888c88a-4ab4-4633-d6e7-a971258a64af"
      },
      "execution_count": null,
      "outputs": [
        {
          "output_type": "execute_result",
          "data": {
            "text/plain": [
              "'Fusca'"
            ],
            "application/vnd.google.colaboratory.intrinsic+json": {
              "type": "string"
            }
          },
          "metadata": {},
          "execution_count": 100
        }
      ]
    },
    {
      "cell_type": "code",
      "source": [
        "# Retornar o comprimento na lista(quantidade  de listas)\n",
        "len(lista)"
      ],
      "metadata": {
        "colab": {
          "base_uri": "https://localhost:8080/"
        },
        "id": "PCJ0t9nuec4l",
        "outputId": "daff591e-4211-4f75-c302-56216440c1bf"
      },
      "execution_count": null,
      "outputs": [
        {
          "output_type": "execute_result",
          "data": {
            "text/plain": [
              "3"
            ]
          },
          "metadata": {},
          "execution_count": 102
        }
      ]
    },
    {
      "cell_type": "code",
      "source": [
        "len(animais)"
      ],
      "metadata": {
        "colab": {
          "base_uri": "https://localhost:8080/"
        },
        "id": "cDRmIFPgemtQ",
        "outputId": "8a23891c-a3ae-4e48-d818-ba412ac10b85"
      },
      "execution_count": null,
      "outputs": [
        {
          "output_type": "execute_result",
          "data": {
            "text/plain": [
              "10"
            ]
          },
          "metadata": {},
          "execution_count": 103
        }
      ]
    },
    {
      "cell_type": "markdown",
      "source": [
        "#Tuplas"
      ],
      "metadata": {
        "id": "S2KGjvRve1jv"
      }
    },
    {
      "cell_type": "code",
      "source": [
        "# As tuplas usam parênteses como sintaxe, diferente das listas que usam colchetes\n",
        "tp = (\"Banana\", \"Maça\", \"Uva\", 1, 2, 3)"
      ],
      "metadata": {
        "id": "BpmV-ICXe3PO"
      },
      "execution_count": null,
      "outputs": []
    },
    {
      "cell_type": "code",
      "source": [
        "tp[0] = \"Morango\""
      ],
      "metadata": {
        "colab": {
          "base_uri": "https://localhost:8080/",
          "height": 141
        },
        "id": "p-8Ng6d9gQU2",
        "outputId": "8bf13f01-46ef-4fed-fbc7-bfd4027fbbdf"
      },
      "execution_count": null,
      "outputs": [
        {
          "output_type": "error",
          "ename": "TypeError",
          "evalue": "'tuple' object does not support item assignment",
          "traceback": [
            "\u001b[0;31m---------------------------------------------------------------------------\u001b[0m",
            "\u001b[0;31mTypeError\u001b[0m                                 Traceback (most recent call last)",
            "\u001b[0;32m<ipython-input-105-c7eb7a51cd5e>\u001b[0m in \u001b[0;36m<cell line: 1>\u001b[0;34m()\u001b[0m\n\u001b[0;32m----> 1\u001b[0;31m \u001b[0mtp\u001b[0m\u001b[0;34m[\u001b[0m\u001b[0;36m0\u001b[0m\u001b[0;34m]\u001b[0m \u001b[0;34m=\u001b[0m \u001b[0;34m\"Morango\"\u001b[0m\u001b[0;34m\u001b[0m\u001b[0;34m\u001b[0m\u001b[0m\n\u001b[0m",
            "\u001b[0;31mTypeError\u001b[0m: 'tuple' object does not support item assignment"
          ]
        }
      ]
    },
    {
      "cell_type": "code",
      "source": [
        "#Consultando existência de elemento na tupla\n",
        "\n",
        "\"Banana\" in tp"
      ],
      "metadata": {
        "colab": {
          "base_uri": "https://localhost:8080/"
        },
        "id": "HZGPoIYFgV3F",
        "outputId": "9e3d0331-d7e3-48d1-d457-ef3eba008398"
      },
      "execution_count": null,
      "outputs": [
        {
          "output_type": "execute_result",
          "data": {
            "text/plain": [
              "True"
            ]
          },
          "metadata": {},
          "execution_count": 106
        }
      ]
    },
    {
      "cell_type": "code",
      "source": [
        "len(tp)"
      ],
      "metadata": {
        "colab": {
          "base_uri": "https://localhost:8080/"
        },
        "id": "dW-aLx41gcsX",
        "outputId": "a4a385b5-a4b9-4e7d-a564-f5d5aedc060a"
      },
      "execution_count": null,
      "outputs": [
        {
          "output_type": "execute_result",
          "data": {
            "text/plain": [
              "6"
            ]
          },
          "metadata": {},
          "execution_count": 107
        }
      ]
    },
    {
      "cell_type": "code",
      "source": [
        "tp[0]"
      ],
      "metadata": {
        "colab": {
          "base_uri": "https://localhost:8080/",
          "height": 35
        },
        "id": "wN7yps2ygjEL",
        "outputId": "d1a3c17d-3c87-4135-d0ba-a9fd6cf4529f"
      },
      "execution_count": null,
      "outputs": [
        {
          "output_type": "execute_result",
          "data": {
            "text/plain": [
              "'Banana'"
            ],
            "application/vnd.google.colaboratory.intrinsic+json": {
              "type": "string"
            }
          },
          "metadata": {},
          "execution_count": 108
        }
      ]
    },
    {
      "cell_type": "markdown",
      "source": [
        "#Dicionários"
      ],
      "metadata": {
        "id": "4QjJxoZLguBf"
      }
    },
    {
      "cell_type": "code",
      "source": [
        "#Para dicionários usamos {}\n",
        "# Dicionários trabalham o conceito de chave e valor\n",
        "\n",
        "dc = {\"Maçã\": 10, \"Banana\": 15, \"Laranja\": 5}"
      ],
      "metadata": {
        "id": "V55c2jdmgvkn"
      },
      "execution_count": null,
      "outputs": []
    },
    {
      "cell_type": "code",
      "source": [
        "dc"
      ],
      "metadata": {
        "colab": {
          "base_uri": "https://localhost:8080/"
        },
        "id": "0XHBoSBDhieM",
        "outputId": "66b74cba-fcae-4fc8-9b55-36fb0193fd94"
      },
      "execution_count": null,
      "outputs": [
        {
          "output_type": "execute_result",
          "data": {
            "text/plain": [
              "{'Maçã': 10, 'Banana': 15, 'Laranja': 5}"
            ]
          },
          "metadata": {},
          "execution_count": 110
        }
      ]
    },
    {
      "cell_type": "code",
      "source": [
        "#Retornando todas as chaves de dicionários\n",
        "\n",
        "dc.keys()"
      ],
      "metadata": {
        "colab": {
          "base_uri": "https://localhost:8080/"
        },
        "id": "bW3Zr-CZhlSI",
        "outputId": "b2925664-f15b-4be5-fc3a-2a5fc0289fe6"
      },
      "execution_count": null,
      "outputs": [
        {
          "output_type": "execute_result",
          "data": {
            "text/plain": [
              "dict_keys(['Maçã', 'Banana', 'Laranja'])"
            ]
          },
          "metadata": {},
          "execution_count": 111
        }
      ]
    },
    {
      "cell_type": "code",
      "source": [
        "dc[\"Maçã\"]"
      ],
      "metadata": {
        "colab": {
          "base_uri": "https://localhost:8080/"
        },
        "id": "he6oZLixhuTh",
        "outputId": "dd1ed55d-5185-4201-82d1-c3809bc4e216"
      },
      "execution_count": null,
      "outputs": [
        {
          "output_type": "execute_result",
          "data": {
            "text/plain": [
              "10"
            ]
          },
          "metadata": {},
          "execution_count": 113
        }
      ]
    },
    {
      "cell_type": "code",
      "source": [
        "dc.values() #Retorna os valores do dicionário"
      ],
      "metadata": {
        "colab": {
          "base_uri": "https://localhost:8080/"
        },
        "id": "37L_3BQEhx4G",
        "outputId": "320d3da1-bf86-48b8-fa67-dc9f9a648eb5"
      },
      "execution_count": null,
      "outputs": [
        {
          "output_type": "execute_result",
          "data": {
            "text/plain": [
              "dict_values([10, 15, 5])"
            ]
          },
          "metadata": {},
          "execution_count": 114
        }
      ]
    },
    {
      "cell_type": "code",
      "source": [
        "#Consultando existência de elemento no dicionário e passando parametro pra caso não exista\n",
        "\n",
        "dc.get(\"Banana\", \"Não existe\")"
      ],
      "metadata": {
        "colab": {
          "base_uri": "https://localhost:8080/"
        },
        "id": "aFeyrJ3fiAPh",
        "outputId": "e6616d04-0446-43ed-d021-915956415e7c"
      },
      "execution_count": null,
      "outputs": [
        {
          "output_type": "execute_result",
          "data": {
            "text/plain": [
              "15"
            ]
          },
          "metadata": {},
          "execution_count": 115
        }
      ]
    },
    {
      "cell_type": "code",
      "source": [
        "dc.get(\"Morango\", \"Não existe\")"
      ],
      "metadata": {
        "colab": {
          "base_uri": "https://localhost:8080/",
          "height": 35
        },
        "id": "BBqgLDUxiT2F",
        "outputId": "9157cba3-65a6-4138-97bb-f75b209c6156"
      },
      "execution_count": null,
      "outputs": [
        {
          "output_type": "execute_result",
          "data": {
            "text/plain": [
              "'Não existe'"
            ],
            "application/vnd.google.colaboratory.intrinsic+json": {
              "type": "string"
            }
          },
          "metadata": {},
          "execution_count": 116
        }
      ]
    },
    {
      "cell_type": "code",
      "source": [
        "#Consulta o elemento no dicionário e caso não exista, ele inclui no dicionário\n",
        "\n",
        "dc.setdefault(\"Morango\", \"12\")"
      ],
      "metadata": {
        "colab": {
          "base_uri": "https://localhost:8080/",
          "height": 35
        },
        "id": "KX6wpvnpiZm2",
        "outputId": "6cd44252-dd36-41a2-9eda-dad5b9a67135"
      },
      "execution_count": null,
      "outputs": [
        {
          "output_type": "execute_result",
          "data": {
            "text/plain": [
              "'12'"
            ],
            "application/vnd.google.colaboratory.intrinsic+json": {
              "type": "string"
            }
          },
          "metadata": {},
          "execution_count": 117
        }
      ]
    },
    {
      "cell_type": "code",
      "source": [
        "dc"
      ],
      "metadata": {
        "colab": {
          "base_uri": "https://localhost:8080/"
        },
        "id": "zaBgoJqyiq0w",
        "outputId": "12cee442-7bd0-456b-dea6-4f3fc5544e54"
      },
      "execution_count": null,
      "outputs": [
        {
          "output_type": "execute_result",
          "data": {
            "text/plain": [
              "{'Maçã': 10, 'Banana': 15, 'Laranja': 5, 'Morango': '12'}"
            ]
          },
          "metadata": {},
          "execution_count": 118
        }
      ]
    },
    {
      "cell_type": "code",
      "source": [
        "dc.setdefault(\"Banana\", 25) #Não foi inserido pois banana já existe no dicionário"
      ],
      "metadata": {
        "colab": {
          "base_uri": "https://localhost:8080/"
        },
        "id": "chDEPonTis-U",
        "outputId": "d85e7725-19b2-45e6-b952-6183cc8b4060"
      },
      "execution_count": null,
      "outputs": [
        {
          "output_type": "execute_result",
          "data": {
            "text/plain": [
              "15"
            ]
          },
          "metadata": {},
          "execution_count": 120
        }
      ]
    },
    {
      "cell_type": "code",
      "source": [
        "len(dc) #Combinação de cada chave com seu valor"
      ],
      "metadata": {
        "colab": {
          "base_uri": "https://localhost:8080/"
        },
        "id": "kTuQvfwgiyJT",
        "outputId": "13510eb4-0d22-48c0-e0a1-a7dc32fbc0eb"
      },
      "execution_count": null,
      "outputs": [
        {
          "output_type": "execute_result",
          "data": {
            "text/plain": [
              "4"
            ]
          },
          "metadata": {},
          "execution_count": 121
        }
      ]
    },
    {
      "cell_type": "markdown",
      "source": [
        "#Estruturas condicionais"
      ],
      "metadata": {
        "id": "fUo1kL1vjnIQ"
      }
    },
    {
      "cell_type": "code",
      "source": [
        "idade = 74\n",
        "\n",
        "if idade == 18:\n",
        "  print(\"Você é maior de idade.\")"
      ],
      "metadata": {
        "id": "2qV44x70jsLq"
      },
      "execution_count": null,
      "outputs": []
    },
    {
      "cell_type": "code",
      "source": [
        "if idade == 18:\n",
        "  print(\"Você é maior de idade.\")\n",
        "\n",
        "else:\n",
        "  print(\"Você não tem 18 anos.\")"
      ],
      "metadata": {
        "colab": {
          "base_uri": "https://localhost:8080/"
        },
        "id": "24qoZCTLkeHy",
        "outputId": "38811fea-9c97-4c8c-e1e5-73b6062203ff"
      },
      "execution_count": null,
      "outputs": [
        {
          "output_type": "stream",
          "name": "stdout",
          "text": [
            "Você não tem 18 anos.\n"
          ]
        }
      ]
    },
    {
      "cell_type": "code",
      "source": [
        "if idade < 18:\n",
        "  print(\"Você é menor de idade\")\n",
        "elif idade >= 18 and idade < 65:\n",
        "  print(\"Você é adulto.\")\n",
        "else:\n",
        "  print(\"Você é idoso.\")"
      ],
      "metadata": {
        "colab": {
          "base_uri": "https://localhost:8080/"
        },
        "id": "7xeNbxM7k0nK",
        "outputId": "b15016eb-de91-4126-9fba-33358dfd9e74"
      },
      "execution_count": null,
      "outputs": [
        {
          "output_type": "stream",
          "name": "stdout",
          "text": [
            "Você é idoso.\n"
          ]
        }
      ]
    },
    {
      "cell_type": "code",
      "source": [
        "nome = \"Vitória\"\n",
        "if 10 > 20 or nome == \"Vitória\":\n",
        "  print(\"Olá, Vitória\")\n",
        "else:\n",
        "  print(\"Você não é Vitória.\")"
      ],
      "metadata": {
        "colab": {
          "base_uri": "https://localhost:8080/"
        },
        "id": "9LCYjVC1lquw",
        "outputId": "80e8058e-065c-4107-cbaf-4e9ee0feab97"
      },
      "execution_count": null,
      "outputs": [
        {
          "output_type": "stream",
          "name": "stdout",
          "text": [
            "Olá, Vitória\n"
          ]
        }
      ]
    },
    {
      "cell_type": "markdown",
      "source": [
        "#Loop"
      ],
      "metadata": {
        "id": "TojDJW9anMwQ"
      }
    },
    {
      "cell_type": "code",
      "source": [
        "#Percorrendo cada elemento de um conjunto de elementos e retornando cada um deles\n",
        "\n",
        "for i in [\"Audi\", \"Ferrari\", \"Fusca\"]:\n",
        "  print(i)"
      ],
      "metadata": {
        "colab": {
          "base_uri": "https://localhost:8080/"
        },
        "id": "I16bBac3nOXw",
        "outputId": "9c24af92-80af-47b1-e14f-1558081e024b"
      },
      "execution_count": null,
      "outputs": [
        {
          "output_type": "stream",
          "name": "stdout",
          "text": [
            "Audi\n",
            "Ferrari\n",
            "Fusca\n"
          ]
        }
      ]
    },
    {
      "cell_type": "code",
      "source": [
        "#Percorrendo conjunto de valores e e retornando a soma de cada elemento mais 2\n",
        "for numero in [1, 2, 3, 4, 5]:\n",
        "  print(\"Valor\", numero)\n",
        "  print(numero + 2)"
      ],
      "metadata": {
        "colab": {
          "base_uri": "https://localhost:8080/"
        },
        "id": "7t8rjGPWniiV",
        "outputId": "1e9a2d56-93a1-4584-acf8-afd1245b4c35"
      },
      "execution_count": null,
      "outputs": [
        {
          "output_type": "stream",
          "name": "stdout",
          "text": [
            "Valor 1\n",
            "3\n",
            "Valor 2\n",
            "4\n",
            "Valor 3\n",
            "5\n",
            "Valor 4\n",
            "6\n",
            "Valor 5\n",
            "7\n"
          ]
        }
      ]
    },
    {
      "cell_type": "code",
      "source": [
        "#Criando uma lista manipulando os dados de uma outra lista, nesse caso, retornando a exponenciação ao quadrado.\n",
        "lista = [1, 2, 3]\n",
        "lista2 = [numero**2 for numero in lista]\n",
        "lista2"
      ],
      "metadata": {
        "colab": {
          "base_uri": "https://localhost:8080/"
        },
        "id": "BVraq_PLok7d",
        "outputId": "793f09e5-dde8-4b2d-c28f-be586e67d350"
      },
      "execution_count": null,
      "outputs": [
        {
          "output_type": "execute_result",
          "data": {
            "text/plain": [
              "[1, 4, 9]"
            ]
          },
          "metadata": {},
          "execution_count": 143
        }
      ]
    },
    {
      "cell_type": "code",
      "source": [
        "#Exemplo de loop com string\n",
        "for caracter in \"Analisando dados com python\":\n",
        "  print(caracter)"
      ],
      "metadata": {
        "colab": {
          "base_uri": "https://localhost:8080/"
        },
        "id": "zQ4YluG5pSPd",
        "outputId": "e1193d42-18eb-4169-d191-d70aecf67292"
      },
      "execution_count": null,
      "outputs": [
        {
          "output_type": "stream",
          "name": "stdout",
          "text": [
            "A\n",
            "n\n",
            "a\n",
            "l\n",
            "i\n",
            "s\n",
            "a\n",
            "n\n",
            "d\n",
            "o\n",
            " \n",
            "d\n",
            "a\n",
            "d\n",
            "o\n",
            "s\n",
            " \n",
            "c\n",
            "o\n",
            "m\n",
            " \n",
            "p\n",
            "y\n",
            "t\n",
            "h\n",
            "o\n",
            "n\n"
          ]
        }
      ]
    },
    {
      "cell_type": "code",
      "source": [
        "#Utilizando o break para parar uma estrutura de loop\n",
        "for letra in \"Python\":\n",
        "  if letra == \"o\":\n",
        "    break #Interrompendo break\n",
        "  print(\"Letra\", letra)"
      ],
      "metadata": {
        "colab": {
          "base_uri": "https://localhost:8080/"
        },
        "id": "w_TmAI3DpqCZ",
        "outputId": "7c8ade32-bbc0-499c-bbcb-a862651c1833"
      },
      "execution_count": null,
      "outputs": [
        {
          "output_type": "stream",
          "name": "stdout",
          "text": [
            "Letra P\n",
            "Letra y\n",
            "Letra t\n",
            "Letra h\n"
          ]
        }
      ]
    },
    {
      "cell_type": "code",
      "source": [
        "for letra in \"Python\":\n",
        "  if letra == \"y\":\n",
        "    continue #Pula o argumento indicado no comparativo\n",
        "  print(\"Letra\", letra)"
      ],
      "metadata": {
        "id": "zPgSz5aKp_j4"
      },
      "execution_count": null,
      "outputs": []
    },
    {
      "cell_type": "markdown",
      "source": [
        "# Exercício 1"
      ],
      "metadata": {
        "id": "VhPCO36Nquvx"
      }
    },
    {
      "cell_type": "code",
      "source": [
        "# Criar lista de números e retornar somente os números pares.\n",
        "\n",
        "listaDeNumeros = [1,2,3,4,5,6,7,8,9,10]\n",
        "\n",
        "for numeros in listaDeNumeros:\n",
        "  if numeros % 2 == 0:\n",
        "    print(numeros)"
      ],
      "metadata": {
        "colab": {
          "base_uri": "https://localhost:8080/"
        },
        "id": "dCZrFsH-qzJ8",
        "outputId": "54407381-e2e3-4ab3-e20c-dc7f39e5fd11"
      },
      "execution_count": null,
      "outputs": [
        {
          "output_type": "stream",
          "name": "stdout",
          "text": [
            "2\n",
            "4\n",
            "6\n",
            "8\n",
            "10\n"
          ]
        }
      ]
    },
    {
      "cell_type": "markdown",
      "source": [
        "#Funções"
      ],
      "metadata": {
        "id": "ckXgcHQwr9JQ"
      }
    },
    {
      "cell_type": "code",
      "source": [
        "# Estrutura de função\n",
        "\n",
        "def saudacao():\n",
        "  print(\"Olá, bem vindo(a).\")"
      ],
      "metadata": {
        "id": "PyXaneQOrMuv"
      },
      "execution_count": null,
      "outputs": []
    },
    {
      "cell_type": "code",
      "source": [
        "#Chamando a função\n",
        "saudacao()"
      ],
      "metadata": {
        "colab": {
          "base_uri": "https://localhost:8080/"
        },
        "id": "kSLjVm3atLP0",
        "outputId": "d39fe7f2-542d-45c2-bd1f-a6a0449b01ae"
      },
      "execution_count": null,
      "outputs": [
        {
          "output_type": "stream",
          "name": "stdout",
          "text": [
            "Olá, bem vindo(a).\n"
          ]
        }
      ]
    },
    {
      "cell_type": "code",
      "source": [
        "def hello(nome):\n",
        "  print(\"Olá\", nome)\n"
      ],
      "metadata": {
        "id": "Q3KyenDbtRxY"
      },
      "execution_count": null,
      "outputs": []
    },
    {
      "cell_type": "code",
      "source": [
        "hello(\"Vitória\")"
      ],
      "metadata": {
        "colab": {
          "base_uri": "https://localhost:8080/"
        },
        "id": "oBZit2bRthll",
        "outputId": "e7b030df-4281-43bc-ba82-6cb64ecf5bad"
      },
      "execution_count": null,
      "outputs": [
        {
          "output_type": "stream",
          "name": "stdout",
          "text": [
            "Olá Vitória\n"
          ]
        }
      ]
    },
    {
      "cell_type": "code",
      "source": [
        "def soma(n1,n2):\n",
        "  return (f'A soma dos dois números é: {n1 + n2}')"
      ],
      "metadata": {
        "id": "cnJev-MTtlcs"
      },
      "execution_count": null,
      "outputs": []
    },
    {
      "cell_type": "code",
      "source": [
        "soma(2,4)"
      ],
      "metadata": {
        "colab": {
          "base_uri": "https://localhost:8080/",
          "height": 35
        },
        "id": "xLTiwEPRuInL",
        "outputId": "2544b947-665f-4d13-fc53-88bdb3ea0641"
      },
      "execution_count": null,
      "outputs": [
        {
          "output_type": "execute_result",
          "data": {
            "text/plain": [
              "'A soma dos dois números é: 6'"
            ],
            "application/vnd.google.colaboratory.intrinsic+json": {
              "type": "string"
            }
          },
          "metadata": {},
          "execution_count": 165
        }
      ]
    },
    {
      "cell_type": "code",
      "source": [
        "def imc():\n",
        "  peso = float(input(\"Qual o seu peso?\"))\n",
        "  altura = float(input(\"Qual sua altura?\"))\n",
        "\n",
        "  imc = round(peso / (altura ** 2),2)\n",
        "\n",
        "  return imc"
      ],
      "metadata": {
        "id": "U3A88ZYluVu2"
      },
      "execution_count": null,
      "outputs": []
    },
    {
      "cell_type": "code",
      "source": [
        "imc()"
      ],
      "metadata": {
        "colab": {
          "base_uri": "https://localhost:8080/"
        },
        "id": "iJ_2cDL4IyH6",
        "outputId": "7299373f-c33b-44ee-f5d7-f27593e850c3"
      },
      "execution_count": null,
      "outputs": [
        {
          "name": "stdout",
          "output_type": "stream",
          "text": [
            "Qual o seu peso?40\n",
            "Qual sua altura?1.60\n"
          ]
        },
        {
          "output_type": "execute_result",
          "data": {
            "text/plain": [
              "15.62"
            ]
          },
          "metadata": {},
          "execution_count": 33
        }
      ]
    },
    {
      "cell_type": "code",
      "source": [],
      "metadata": {
        "id": "OuuBBrwcJMt3"
      },
      "execution_count": null,
      "outputs": []
    }
  ]
}